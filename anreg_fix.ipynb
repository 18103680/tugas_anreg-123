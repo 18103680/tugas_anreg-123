{
 "cells": [
  {
   "cell_type": "code",
   "execution_count": 12,
   "metadata": {},
   "outputs": [],
   "source": [
    "import pandas as pd\n",
    "import math\n",
    "import numpy as np"
   ]
  },
  {
   "cell_type": "code",
   "execution_count": 13,
   "metadata": {},
   "outputs": [
    {
     "data": {
      "text/html": [
       "<div>\n",
       "<style scoped>\n",
       "    .dataframe tbody tr th:only-of-type {\n",
       "        vertical-align: middle;\n",
       "    }\n",
       "\n",
       "    .dataframe tbody tr th {\n",
       "        vertical-align: top;\n",
       "    }\n",
       "\n",
       "    .dataframe thead th {\n",
       "        text-align: right;\n",
       "    }\n",
       "</style>\n",
       "<table border=\"1\" class=\"dataframe\">\n",
       "  <thead>\n",
       "    <tr style=\"text-align: right;\">\n",
       "      <th></th>\n",
       "      <th>x</th>\n",
       "      <th>y</th>\n",
       "    </tr>\n",
       "  </thead>\n",
       "  <tbody>\n",
       "    <tr>\n",
       "      <th>0</th>\n",
       "      <td>104.33</td>\n",
       "      <td>102.08</td>\n",
       "    </tr>\n",
       "    <tr>\n",
       "      <th>1</th>\n",
       "      <td>104.62</td>\n",
       "      <td>101.24</td>\n",
       "    </tr>\n",
       "    <tr>\n",
       "      <th>2</th>\n",
       "      <td>104.72</td>\n",
       "      <td>102.17</td>\n",
       "    </tr>\n",
       "    <tr>\n",
       "      <th>3</th>\n",
       "      <td>104.80</td>\n",
       "      <td>102.20</td>\n",
       "    </tr>\n",
       "    <tr>\n",
       "      <th>4</th>\n",
       "      <td>104.87</td>\n",
       "      <td>111.91</td>\n",
       "    </tr>\n",
       "    <tr>\n",
       "      <th>5</th>\n",
       "      <td>105.06</td>\n",
       "      <td>101.27</td>\n",
       "    </tr>\n",
       "    <tr>\n",
       "      <th>6</th>\n",
       "      <td>104.95</td>\n",
       "      <td>121.82</td>\n",
       "    </tr>\n",
       "    <tr>\n",
       "      <th>7</th>\n",
       "      <td>104.90</td>\n",
       "      <td>111.56</td>\n",
       "    </tr>\n",
       "    <tr>\n",
       "      <th>8</th>\n",
       "      <td>104.85</td>\n",
       "      <td>101.42</td>\n",
       "    </tr>\n",
       "    <tr>\n",
       "      <th>9</th>\n",
       "      <td>104.92</td>\n",
       "      <td>101.60</td>\n",
       "    </tr>\n",
       "    <tr>\n",
       "      <th>10</th>\n",
       "      <td>105.21</td>\n",
       "      <td>101.77</td>\n",
       "    </tr>\n",
       "    <tr>\n",
       "      <th>11</th>\n",
       "      <td>105.68</td>\n",
       "      <td>111.65</td>\n",
       "    </tr>\n",
       "    <tr>\n",
       "      <th>12</th>\n",
       "      <td>109.19</td>\n",
       "      <td>109.22</td>\n",
       "    </tr>\n",
       "    <tr>\n",
       "      <th>13</th>\n",
       "      <td>108.77</td>\n",
       "      <td>108.29</td>\n",
       "    </tr>\n",
       "    <tr>\n",
       "      <th>14</th>\n",
       "      <td>109.97</td>\n",
       "      <td>109.75</td>\n",
       "    </tr>\n",
       "    <tr>\n",
       "      <th>15</th>\n",
       "      <td>111.34</td>\n",
       "      <td>111.34</td>\n",
       "    </tr>\n",
       "    <tr>\n",
       "      <th>16</th>\n",
       "      <td>112.35</td>\n",
       "      <td>112.30</td>\n",
       "    </tr>\n",
       "    <tr>\n",
       "      <th>17</th>\n",
       "      <td>113.96</td>\n",
       "      <td>114.04</td>\n",
       "    </tr>\n",
       "    <tr>\n",
       "      <th>18</th>\n",
       "      <td>115.16</td>\n",
       "      <td>115.52</td>\n",
       "    </tr>\n",
       "    <tr>\n",
       "      <th>19</th>\n",
       "      <td>113.50</td>\n",
       "      <td>114.18</td>\n",
       "    </tr>\n",
       "    <tr>\n",
       "      <th>20</th>\n",
       "      <td>114.75</td>\n",
       "      <td>114.81</td>\n",
       "    </tr>\n",
       "    <tr>\n",
       "      <th>21</th>\n",
       "      <td>113.44</td>\n",
       "      <td>114.63</td>\n",
       "    </tr>\n",
       "    <tr>\n",
       "      <th>22</th>\n",
       "      <td>113.42</td>\n",
       "      <td>114.00</td>\n",
       "    </tr>\n",
       "    <tr>\n",
       "      <th>23</th>\n",
       "      <td>114.19</td>\n",
       "      <td>114.90</td>\n",
       "    </tr>\n",
       "    <tr>\n",
       "      <th>24</th>\n",
       "      <td>115.07</td>\n",
       "      <td>115.94</td>\n",
       "    </tr>\n",
       "    <tr>\n",
       "      <th>25</th>\n",
       "      <td>115.25</td>\n",
       "      <td>115.69</td>\n",
       "    </tr>\n",
       "    <tr>\n",
       "      <th>26</th>\n",
       "      <td>115.11</td>\n",
       "      <td>115.50</td>\n",
       "    </tr>\n",
       "    <tr>\n",
       "      <th>27</th>\n",
       "      <td>115.42</td>\n",
       "      <td>115.66</td>\n",
       "    </tr>\n",
       "    <tr>\n",
       "      <th>28</th>\n",
       "      <td>115.59</td>\n",
       "      <td>116.25</td>\n",
       "    </tr>\n",
       "    <tr>\n",
       "      <th>29</th>\n",
       "      <td>115.73</td>\n",
       "      <td>116.33</td>\n",
       "    </tr>\n",
       "    <tr>\n",
       "      <th>30</th>\n",
       "      <td>116.08</td>\n",
       "      <td>116.90</td>\n",
       "    </tr>\n",
       "    <tr>\n",
       "      <th>31</th>\n",
       "      <td>115.69</td>\n",
       "      <td>116.37</td>\n",
       "    </tr>\n",
       "    <tr>\n",
       "      <th>32</th>\n",
       "      <td>116.09</td>\n",
       "      <td>116.85</td>\n",
       "    </tr>\n",
       "    <tr>\n",
       "      <th>33</th>\n",
       "      <td>116.14</td>\n",
       "      <td>117.43</td>\n",
       "    </tr>\n",
       "    <tr>\n",
       "      <th>34</th>\n",
       "      <td>117.08</td>\n",
       "      <td>118.36</td>\n",
       "    </tr>\n",
       "    <tr>\n",
       "      <th>35</th>\n",
       "      <td>117.44</td>\n",
       "      <td>118.66</td>\n",
       "    </tr>\n",
       "  </tbody>\n",
       "</table>\n",
       "</div>"
      ],
      "text/plain": [
       "         x       y\n",
       "0   104.33  102.08\n",
       "1   104.62  101.24\n",
       "2   104.72  102.17\n",
       "3   104.80  102.20\n",
       "4   104.87  111.91\n",
       "5   105.06  101.27\n",
       "6   104.95  121.82\n",
       "7   104.90  111.56\n",
       "8   104.85  101.42\n",
       "9   104.92  101.60\n",
       "10  105.21  101.77\n",
       "11  105.68  111.65\n",
       "12  109.19  109.22\n",
       "13  108.77  108.29\n",
       "14  109.97  109.75\n",
       "15  111.34  111.34\n",
       "16  112.35  112.30\n",
       "17  113.96  114.04\n",
       "18  115.16  115.52\n",
       "19  113.50  114.18\n",
       "20  114.75  114.81\n",
       "21  113.44  114.63\n",
       "22  113.42  114.00\n",
       "23  114.19  114.90\n",
       "24  115.07  115.94\n",
       "25  115.25  115.69\n",
       "26  115.11  115.50\n",
       "27  115.42  115.66\n",
       "28  115.59  116.25\n",
       "29  115.73  116.33\n",
       "30  116.08  116.90\n",
       "31  115.69  116.37\n",
       "32  116.09  116.85\n",
       "33  116.14  117.43\n",
       "34  117.08  118.36\n",
       "35  117.44  118.66"
      ]
     },
     "execution_count": 13,
     "metadata": {},
     "output_type": "execute_result"
    }
   ],
   "source": [
    "df1 = pd.read_csv('multi.csv')\n",
    "df1"
   ]
  },
  {
   "cell_type": "code",
   "execution_count": 14,
   "metadata": {},
   "outputs": [
    {
     "ename": "KeyError",
     "evalue": "\"None of [Index(['x1'], dtype='object')] are in the [columns]\"",
     "output_type": "error",
     "traceback": [
      "\u001b[1;31m---------------------------------------------------------------------------\u001b[0m",
      "\u001b[1;31mKeyError\u001b[0m                                  Traceback (most recent call last)",
      "Cell \u001b[1;32mIn[14], line 7\u001b[0m\n\u001b[0;32m      2\u001b[0m \u001b[38;5;28;01mimport\u001b[39;00m \u001b[38;5;21;01mpandas\u001b[39;00m \u001b[38;5;28;01mas\u001b[39;00m \u001b[38;5;21;01mpd\u001b[39;00m\n\u001b[0;32m      4\u001b[0m \u001b[38;5;66;03m# Misalkan df adalah DataFrame yang sudah didefinisikan sebelumnya\u001b[39;00m\n\u001b[0;32m      5\u001b[0m \u001b[38;5;66;03m# Misalkan 'x1' dan 'x2' adalah nama kolom di DataFrame df\u001b[39;00m\n\u001b[0;32m      6\u001b[0m \u001b[38;5;66;03m# X = np.array(df[['x1', 'x2']])  # Ambil kolom 'x1' dan 'x2' dari DataFrame\u001b[39;00m\n\u001b[1;32m----> 7\u001b[0m X \u001b[38;5;241m=\u001b[39m np\u001b[38;5;241m.\u001b[39mcolumn_stack((np\u001b[38;5;241m.\u001b[39mones(df1\u001b[38;5;241m.\u001b[39mshape[\u001b[38;5;241m0\u001b[39m]), \u001b[43mdf1\u001b[49m\u001b[43m[\u001b[49m\u001b[43m[\u001b[49m\u001b[38;5;124;43m'\u001b[39;49m\u001b[38;5;124;43mx1\u001b[39;49m\u001b[38;5;124;43m'\u001b[39;49m\u001b[43m]\u001b[49m\u001b[43m]\u001b[49m))\n\u001b[0;32m      8\u001b[0m Y \u001b[38;5;241m=\u001b[39m np\u001b[38;5;241m.\u001b[39marray(df1[[\u001b[38;5;124m'\u001b[39m\u001b[38;5;124my\u001b[39m\u001b[38;5;124m'\u001b[39m]])  \u001b[38;5;66;03m# Nilai-nilai untuk Y\u001b[39;00m\n\u001b[0;32m     10\u001b[0m \u001b[38;5;66;03m# Tampilkan X untuk memverifikasi\u001b[39;00m\n",
      "File \u001b[1;32m~\\AppData\\Local\\Packages\\PythonSoftwareFoundation.Python.3.12_qbz5n2kfra8p0\\LocalCache\\local-packages\\Python312\\site-packages\\pandas\\core\\frame.py:4108\u001b[0m, in \u001b[0;36mDataFrame.__getitem__\u001b[1;34m(self, key)\u001b[0m\n\u001b[0;32m   4106\u001b[0m     \u001b[38;5;28;01mif\u001b[39;00m is_iterator(key):\n\u001b[0;32m   4107\u001b[0m         key \u001b[38;5;241m=\u001b[39m \u001b[38;5;28mlist\u001b[39m(key)\n\u001b[1;32m-> 4108\u001b[0m     indexer \u001b[38;5;241m=\u001b[39m \u001b[38;5;28;43mself\u001b[39;49m\u001b[38;5;241;43m.\u001b[39;49m\u001b[43mcolumns\u001b[49m\u001b[38;5;241;43m.\u001b[39;49m\u001b[43m_get_indexer_strict\u001b[49m\u001b[43m(\u001b[49m\u001b[43mkey\u001b[49m\u001b[43m,\u001b[49m\u001b[43m \u001b[49m\u001b[38;5;124;43m\"\u001b[39;49m\u001b[38;5;124;43mcolumns\u001b[39;49m\u001b[38;5;124;43m\"\u001b[39;49m\u001b[43m)\u001b[49m[\u001b[38;5;241m1\u001b[39m]\n\u001b[0;32m   4110\u001b[0m \u001b[38;5;66;03m# take() does not accept boolean indexers\u001b[39;00m\n\u001b[0;32m   4111\u001b[0m \u001b[38;5;28;01mif\u001b[39;00m \u001b[38;5;28mgetattr\u001b[39m(indexer, \u001b[38;5;124m\"\u001b[39m\u001b[38;5;124mdtype\u001b[39m\u001b[38;5;124m\"\u001b[39m, \u001b[38;5;28;01mNone\u001b[39;00m) \u001b[38;5;241m==\u001b[39m \u001b[38;5;28mbool\u001b[39m:\n",
      "File \u001b[1;32m~\\AppData\\Local\\Packages\\PythonSoftwareFoundation.Python.3.12_qbz5n2kfra8p0\\LocalCache\\local-packages\\Python312\\site-packages\\pandas\\core\\indexes\\base.py:6200\u001b[0m, in \u001b[0;36mIndex._get_indexer_strict\u001b[1;34m(self, key, axis_name)\u001b[0m\n\u001b[0;32m   6197\u001b[0m \u001b[38;5;28;01melse\u001b[39;00m:\n\u001b[0;32m   6198\u001b[0m     keyarr, indexer, new_indexer \u001b[38;5;241m=\u001b[39m \u001b[38;5;28mself\u001b[39m\u001b[38;5;241m.\u001b[39m_reindex_non_unique(keyarr)\n\u001b[1;32m-> 6200\u001b[0m \u001b[38;5;28;43mself\u001b[39;49m\u001b[38;5;241;43m.\u001b[39;49m\u001b[43m_raise_if_missing\u001b[49m\u001b[43m(\u001b[49m\u001b[43mkeyarr\u001b[49m\u001b[43m,\u001b[49m\u001b[43m \u001b[49m\u001b[43mindexer\u001b[49m\u001b[43m,\u001b[49m\u001b[43m \u001b[49m\u001b[43maxis_name\u001b[49m\u001b[43m)\u001b[49m\n\u001b[0;32m   6202\u001b[0m keyarr \u001b[38;5;241m=\u001b[39m \u001b[38;5;28mself\u001b[39m\u001b[38;5;241m.\u001b[39mtake(indexer)\n\u001b[0;32m   6203\u001b[0m \u001b[38;5;28;01mif\u001b[39;00m \u001b[38;5;28misinstance\u001b[39m(key, Index):\n\u001b[0;32m   6204\u001b[0m     \u001b[38;5;66;03m# GH 42790 - Preserve name from an Index\u001b[39;00m\n",
      "File \u001b[1;32m~\\AppData\\Local\\Packages\\PythonSoftwareFoundation.Python.3.12_qbz5n2kfra8p0\\LocalCache\\local-packages\\Python312\\site-packages\\pandas\\core\\indexes\\base.py:6249\u001b[0m, in \u001b[0;36mIndex._raise_if_missing\u001b[1;34m(self, key, indexer, axis_name)\u001b[0m\n\u001b[0;32m   6247\u001b[0m \u001b[38;5;28;01mif\u001b[39;00m nmissing:\n\u001b[0;32m   6248\u001b[0m     \u001b[38;5;28;01mif\u001b[39;00m nmissing \u001b[38;5;241m==\u001b[39m \u001b[38;5;28mlen\u001b[39m(indexer):\n\u001b[1;32m-> 6249\u001b[0m         \u001b[38;5;28;01mraise\u001b[39;00m \u001b[38;5;167;01mKeyError\u001b[39;00m(\u001b[38;5;124mf\u001b[39m\u001b[38;5;124m\"\u001b[39m\u001b[38;5;124mNone of [\u001b[39m\u001b[38;5;132;01m{\u001b[39;00mkey\u001b[38;5;132;01m}\u001b[39;00m\u001b[38;5;124m] are in the [\u001b[39m\u001b[38;5;132;01m{\u001b[39;00maxis_name\u001b[38;5;132;01m}\u001b[39;00m\u001b[38;5;124m]\u001b[39m\u001b[38;5;124m\"\u001b[39m)\n\u001b[0;32m   6251\u001b[0m     not_found \u001b[38;5;241m=\u001b[39m \u001b[38;5;28mlist\u001b[39m(ensure_index(key)[missing_mask\u001b[38;5;241m.\u001b[39mnonzero()[\u001b[38;5;241m0\u001b[39m]]\u001b[38;5;241m.\u001b[39munique())\n\u001b[0;32m   6252\u001b[0m     \u001b[38;5;28;01mraise\u001b[39;00m \u001b[38;5;167;01mKeyError\u001b[39;00m(\u001b[38;5;124mf\u001b[39m\u001b[38;5;124m\"\u001b[39m\u001b[38;5;132;01m{\u001b[39;00mnot_found\u001b[38;5;132;01m}\u001b[39;00m\u001b[38;5;124m not in index\u001b[39m\u001b[38;5;124m\"\u001b[39m)\n",
      "\u001b[1;31mKeyError\u001b[0m: \"None of [Index(['x1'], dtype='object')] are in the [columns]\""
     ]
    }
   ],
   "source": [
    "import numpy as np\n",
    "import pandas as pd\n",
    "\n",
    "# Misalkan df adalah DataFrame yang sudah didefinisikan sebelumnya\n",
    "# Misalkan 'x1' dan 'x2' adalah nama kolom di DataFrame df\n",
    "# X = np.array(df[['x1', 'x2']])  # Ambil kolom 'x1' dan 'x2' dari DataFrame\n",
    "X = np.column_stack((np.ones(df1.shape[0]), df1[['x']]))\n",
    "Y = np.array(df1[['y']])  # Nilai-nilai untuk Y\n",
    "\n",
    "# Tampilkan X untuk memverifikasi\n",
    "print(X)\n"
   ]
  },
  {
   "cell_type": "code",
   "execution_count": 9,
   "metadata": {},
   "outputs": [
    {
     "name": "stdout",
     "output_type": "stream",
     "text": [
      "Hasil:\n",
      "[[-35.13896065]\n",
      " [  0.34349656]]\n"
     ]
    }
   ],
   "source": [
    "# Menghitung (X^T * X)\n",
    "X_transpose = X.T\n",
    "XTX = X_transpose @ X\n",
    "\n",
    "# Menghitung invers dari (X^T * X)\n",
    "XTX_inv = np.linalg.inv(XTX)\n",
    "\n",
    "# Menghitung (X^T * Y)\n",
    "XTY = X_transpose @ Y\n",
    "\n",
    "# Menghitung hasil akhir\n",
    "result = XTX_inv @ XTY\n",
    "\n",
    "# Menampilkan hasil\n",
    "print(\"Hasil:\")\n",
    "print(result)"
   ]
  },
  {
   "cell_type": "code",
   "execution_count": 10,
   "metadata": {},
   "outputs": [
    {
     "ename": "KeyError",
     "evalue": "'x'",
     "output_type": "error",
     "traceback": [
      "\u001b[1;31m---------------------------------------------------------------------------\u001b[0m",
      "\u001b[1;31mKeyError\u001b[0m                                  Traceback (most recent call last)",
      "File \u001b[1;32m~\\AppData\\Local\\Packages\\PythonSoftwareFoundation.Python.3.12_qbz5n2kfra8p0\\LocalCache\\local-packages\\Python312\\site-packages\\pandas\\core\\indexes\\base.py:3805\u001b[0m, in \u001b[0;36mIndex.get_loc\u001b[1;34m(self, key)\u001b[0m\n\u001b[0;32m   3804\u001b[0m \u001b[38;5;28;01mtry\u001b[39;00m:\n\u001b[1;32m-> 3805\u001b[0m     \u001b[38;5;28;01mreturn\u001b[39;00m \u001b[38;5;28;43mself\u001b[39;49m\u001b[38;5;241;43m.\u001b[39;49m\u001b[43m_engine\u001b[49m\u001b[38;5;241;43m.\u001b[39;49m\u001b[43mget_loc\u001b[49m\u001b[43m(\u001b[49m\u001b[43mcasted_key\u001b[49m\u001b[43m)\u001b[49m\n\u001b[0;32m   3806\u001b[0m \u001b[38;5;28;01mexcept\u001b[39;00m \u001b[38;5;167;01mKeyError\u001b[39;00m \u001b[38;5;28;01mas\u001b[39;00m err:\n",
      "File \u001b[1;32mindex.pyx:167\u001b[0m, in \u001b[0;36mpandas._libs.index.IndexEngine.get_loc\u001b[1;34m()\u001b[0m\n",
      "File \u001b[1;32mindex.pyx:196\u001b[0m, in \u001b[0;36mpandas._libs.index.IndexEngine.get_loc\u001b[1;34m()\u001b[0m\n",
      "File \u001b[1;32mpandas\\\\_libs\\\\hashtable_class_helper.pxi:7081\u001b[0m, in \u001b[0;36mpandas._libs.hashtable.PyObjectHashTable.get_item\u001b[1;34m()\u001b[0m\n",
      "File \u001b[1;32mpandas\\\\_libs\\\\hashtable_class_helper.pxi:7089\u001b[0m, in \u001b[0;36mpandas._libs.hashtable.PyObjectHashTable.get_item\u001b[1;34m()\u001b[0m\n",
      "\u001b[1;31mKeyError\u001b[0m: 'x'",
      "\nThe above exception was the direct cause of the following exception:\n",
      "\u001b[1;31mKeyError\u001b[0m                                  Traceback (most recent call last)",
      "Cell \u001b[1;32mIn[10], line 1\u001b[0m\n\u001b[1;32m----> 1\u001b[0m df1[\u001b[38;5;124m'\u001b[39m\u001b[38;5;124mxy\u001b[39m\u001b[38;5;124m'\u001b[39m] \u001b[38;5;241m=\u001b[39m \u001b[43mdf1\u001b[49m\u001b[43m[\u001b[49m\u001b[38;5;124;43m'\u001b[39;49m\u001b[38;5;124;43mx\u001b[39;49m\u001b[38;5;124;43m'\u001b[39;49m\u001b[43m]\u001b[49m \u001b[38;5;241m*\u001b[39m df1[\u001b[38;5;124m'\u001b[39m\u001b[38;5;124my\u001b[39m\u001b[38;5;124m'\u001b[39m]\n\u001b[0;32m      2\u001b[0m df1[\u001b[38;5;124m'\u001b[39m\u001b[38;5;124mx^2\u001b[39m\u001b[38;5;124m'\u001b[39m] \u001b[38;5;241m=\u001b[39m df1[\u001b[38;5;124m'\u001b[39m\u001b[38;5;124mx\u001b[39m\u001b[38;5;124m'\u001b[39m] \u001b[38;5;241m*\u001b[39m df1[\u001b[38;5;124m'\u001b[39m\u001b[38;5;124mx\u001b[39m\u001b[38;5;124m'\u001b[39m]\n\u001b[0;32m      3\u001b[0m df1[\u001b[38;5;124m'\u001b[39m\u001b[38;5;124my^2\u001b[39m\u001b[38;5;124m'\u001b[39m] \u001b[38;5;241m=\u001b[39m df1[\u001b[38;5;124m'\u001b[39m\u001b[38;5;124my\u001b[39m\u001b[38;5;124m'\u001b[39m] \u001b[38;5;241m*\u001b[39m df1[\u001b[38;5;124m'\u001b[39m\u001b[38;5;124my\u001b[39m\u001b[38;5;124m'\u001b[39m]\n",
      "File \u001b[1;32m~\\AppData\\Local\\Packages\\PythonSoftwareFoundation.Python.3.12_qbz5n2kfra8p0\\LocalCache\\local-packages\\Python312\\site-packages\\pandas\\core\\frame.py:4102\u001b[0m, in \u001b[0;36mDataFrame.__getitem__\u001b[1;34m(self, key)\u001b[0m\n\u001b[0;32m   4100\u001b[0m \u001b[38;5;28;01mif\u001b[39;00m \u001b[38;5;28mself\u001b[39m\u001b[38;5;241m.\u001b[39mcolumns\u001b[38;5;241m.\u001b[39mnlevels \u001b[38;5;241m>\u001b[39m \u001b[38;5;241m1\u001b[39m:\n\u001b[0;32m   4101\u001b[0m     \u001b[38;5;28;01mreturn\u001b[39;00m \u001b[38;5;28mself\u001b[39m\u001b[38;5;241m.\u001b[39m_getitem_multilevel(key)\n\u001b[1;32m-> 4102\u001b[0m indexer \u001b[38;5;241m=\u001b[39m \u001b[38;5;28;43mself\u001b[39;49m\u001b[38;5;241;43m.\u001b[39;49m\u001b[43mcolumns\u001b[49m\u001b[38;5;241;43m.\u001b[39;49m\u001b[43mget_loc\u001b[49m\u001b[43m(\u001b[49m\u001b[43mkey\u001b[49m\u001b[43m)\u001b[49m\n\u001b[0;32m   4103\u001b[0m \u001b[38;5;28;01mif\u001b[39;00m is_integer(indexer):\n\u001b[0;32m   4104\u001b[0m     indexer \u001b[38;5;241m=\u001b[39m [indexer]\n",
      "File \u001b[1;32m~\\AppData\\Local\\Packages\\PythonSoftwareFoundation.Python.3.12_qbz5n2kfra8p0\\LocalCache\\local-packages\\Python312\\site-packages\\pandas\\core\\indexes\\base.py:3812\u001b[0m, in \u001b[0;36mIndex.get_loc\u001b[1;34m(self, key)\u001b[0m\n\u001b[0;32m   3807\u001b[0m     \u001b[38;5;28;01mif\u001b[39;00m \u001b[38;5;28misinstance\u001b[39m(casted_key, \u001b[38;5;28mslice\u001b[39m) \u001b[38;5;129;01mor\u001b[39;00m (\n\u001b[0;32m   3808\u001b[0m         \u001b[38;5;28misinstance\u001b[39m(casted_key, abc\u001b[38;5;241m.\u001b[39mIterable)\n\u001b[0;32m   3809\u001b[0m         \u001b[38;5;129;01mand\u001b[39;00m \u001b[38;5;28many\u001b[39m(\u001b[38;5;28misinstance\u001b[39m(x, \u001b[38;5;28mslice\u001b[39m) \u001b[38;5;28;01mfor\u001b[39;00m x \u001b[38;5;129;01min\u001b[39;00m casted_key)\n\u001b[0;32m   3810\u001b[0m     ):\n\u001b[0;32m   3811\u001b[0m         \u001b[38;5;28;01mraise\u001b[39;00m InvalidIndexError(key)\n\u001b[1;32m-> 3812\u001b[0m     \u001b[38;5;28;01mraise\u001b[39;00m \u001b[38;5;167;01mKeyError\u001b[39;00m(key) \u001b[38;5;28;01mfrom\u001b[39;00m \u001b[38;5;21;01merr\u001b[39;00m\n\u001b[0;32m   3813\u001b[0m \u001b[38;5;28;01mexcept\u001b[39;00m \u001b[38;5;167;01mTypeError\u001b[39;00m:\n\u001b[0;32m   3814\u001b[0m     \u001b[38;5;66;03m# If we have a listlike key, _check_indexing_error will raise\u001b[39;00m\n\u001b[0;32m   3815\u001b[0m     \u001b[38;5;66;03m#  InvalidIndexError. Otherwise we fall through and re-raise\u001b[39;00m\n\u001b[0;32m   3816\u001b[0m     \u001b[38;5;66;03m#  the TypeError.\u001b[39;00m\n\u001b[0;32m   3817\u001b[0m     \u001b[38;5;28mself\u001b[39m\u001b[38;5;241m.\u001b[39m_check_indexing_error(key)\n",
      "\u001b[1;31mKeyError\u001b[0m: 'x'"
     ]
    }
   ],
   "source": [
    "df1['xy'] = df1['x'] * df1['y']\n",
    "df1['x^2'] = df1['x'] * df1['x']\n",
    "df1['y^2'] = df1['y'] * df1['y']\n",
    "df1"
   ]
  },
  {
   "cell_type": "code",
   "execution_count": 5,
   "metadata": {},
   "outputs": [
    {
     "name": "stdout",
     "output_type": "stream",
     "text": [
      "Jumlah kolom 'x': 3999.6400000000003\n",
      "Jumlah kolom 'y': 4023.61\n",
      "Jumlah kolom 'xy': 447837.4438\n",
      "Jumlah kolom 'x^2': 445183.1209999999\n",
      "Jumlah kolom 'y^2': 450996.25589999993\n",
      "rata-rata y  111.76694444444445\n",
      "rata-rata x  111.10111111111112\n"
     ]
    }
   ],
   "source": [
    "# menegtahui jumlah nya \n",
    "a= df1['x'].sum()\n",
    "b= df1['y'].sum()\n",
    "c =df1['xy'].sum()\n",
    "d = df1['x^2'].sum()\n",
    "e = df1['y^2'].sum()\n",
    "f = df1['y'].mean()\n",
    "g = df1['x'].mean()\n",
    "\n",
    "\n",
    "print(\"Jumlah kolom 'x':\", a)\n",
    "print(\"Jumlah kolom 'y':\", b)\n",
    "print(\"Jumlah kolom 'xy':\", c)\n",
    "print(\"Jumlah kolom 'x^2':\", d)\n",
    "print(\"Jumlah kolom 'y^2':\", e)\n",
    "print('rata-rata y ', f)\n",
    "print('rata-rata x ', g)"
   ]
  },
  {
   "cell_type": "code",
   "execution_count": 6,
   "metadata": {},
   "outputs": [
    {
     "data": {
      "text/plain": [
       "np.float64(1.0061483660928043)"
      ]
     },
     "execution_count": 6,
     "metadata": {},
     "output_type": "execute_result"
    }
   ],
   "source": [
    "beta_1 = (c -((a*b)/30))/(d - (a**2/30))\n",
    "beta_1"
   ]
  },
  {
   "cell_type": "code",
   "execution_count": 7,
   "metadata": {},
   "outputs": [
    {
     "data": {
      "text/plain": [
       "np.float64(-0.017256971095122253)"
      ]
     },
     "execution_count": 7,
     "metadata": {},
     "output_type": "execute_result"
    }
   ],
   "source": [
    "beta_0 = f - beta_1*g\n",
    "beta_0"
   ]
  },
  {
   "cell_type": "code",
   "execution_count": 8,
   "metadata": {},
   "outputs": [
    {
     "data": {
      "image/png": "[encoded data removed]",
      "text/plain": [
       "<Figure size 600x600 with 1 Axes>"
      ]
     },
     "metadata": {},
     "output_type": "display_data"
    }
   ],
   "source": [
    "import numpy as np\n",
    "import matplotlib.pyplot as plt\n",
    "import pandas as pd  # Pastikan Anda mengimpor pandas jika menggunakan DataFrame\n",
    "\n",
    "# Misalkan df1, beta_0, dan beta_1 sudah didefinisikan\n",
    "# df1 = pd.read_csv('data.csv')  # Contoh cara membaca data\n",
    "# beta_0 = 1000  # Contoh nilai beta_0\n",
    "# beta_1 = 3000  # Contoh nilai beta_1\n",
    "\n",
    "# Buat array x dari DataFrame\n",
    "x = df1['x'] \n",
    "\n",
    "# Hitung nilai y\n",
    "y = beta_0 + beta_1 * x\n",
    "\n",
    "\n",
    "# Plot\n",
    "plt.figure(figsize=(6, 6))\n",
    "plt.plot(x, y, label=f'y = {beta_0} + {beta_1} * x', color='blue')\n",
    "plt.scatter(df1['x'], df1['y'], color='red', label='Data CSV')\n",
    "plt.title('Plot dari y = beta_0 + beta_1 * x')\n",
    "plt.xlabel('x')\n",
    "plt.ylabel('y')\n",
    "\n",
    "# Menetapkan limit sumbu\n",
    "plt.xlim(100, 130)  # Sesuaikan sesuai kebutuhan\n",
    "plt.ylim(min(y), max(y))  # Sesuaikan dengan rentang nilai y yang dihitung\n",
    "\n",
    "# # Garis horizontal dan vertikal di sumbu\n",
    "# plt.axhline(0, color='black', lw=0.5, ls='--')\n",
    "# plt.axvline(0, color='black', lw=0.5, ls='--')\n",
    "\n",
    "# Mengatur ticks\n",
    "plt.xticks(np.arange(100, 150, 10)) \n",
    "plt.yticks(np.arange(100, max(y) + 10, 5))  # Menyesuaikan rentang y\n",
    "\n",
    "plt.grid()\n",
    "plt.legend()\n",
    "plt.show()\n"
   ]
  },
  {
   "cell_type": "code",
   "execution_count": null,
   "metadata": {},
   "outputs": [],
   "source": [
    "import numpy as np\n",
    "import matplotlib.pyplot as plt\n",
    "import pandas as pd  # Pastikan Anda mengimpor pandas jika menggunakan DataFrame\n",
    "\n",
    "# Misalkan df1, beta_0, dan beta_1 sudah didefinisikan\n",
    "# df1 = pd.read_csv('data.csv')  # Contoh cara membaca data\n",
    "# beta_0 = 1000  # Contoh nilai beta_0\n",
    "# beta_1 = 3000  # Contoh nilai beta_1\n",
    "\n",
    "# Buat array x dari DataFrame\n",
    "x = df1['x'] \n",
    "\n",
    "# Hitung nilai y\n",
    "y = -35.13896065 +  * x\n",
    "\n",
    "\n",
    "# Plot\n",
    "plt.figure(figsize=(6, 6))\n",
    "plt.plot(x, y, label=f'y = {beta_0} + {beta_1} * x', color='blue')\n",
    "plt.scatter(df1['x'], df1['y'], color='red', label='Data CSV')\n",
    "plt.title('Plot dari y = beta_0 + beta_1 * x')\n",
    "plt.xlabel('x')\n",
    "plt.ylabel('y')\n",
    "\n",
    "# Menetapkan limit sumbu\n",
    "plt.xlim(100, 130)  # Sesuaikan sesuai kebutuhan\n",
    "plt.ylim(min(y), max(y))  # Sesuaikan dengan rentang nilai y yang dihitung\n",
    "\n",
    "# # Garis horizontal dan vertikal di sumbu\n",
    "# plt.axhline(0, color='black', lw=0.5, ls='--')\n",
    "# plt.axvline(0, color='black', lw=0.5, ls='--')\n",
    "\n",
    "# Mengatur ticks\n",
    "plt.xticks(np.arange(100, 150, 10)) \n",
    "plt.yticks(np.arange(100, max(y) + 10, 5))  # Menyesuaikan rentang y\n",
    "\n",
    "plt.grid()\n",
    "plt.legend()\n",
    "plt.show()\n"
   ]
  },
  {
   "cell_type": "code",
   "execution_count": 9,
   "metadata": {},
   "outputs": [
    {
     "data": {
      "text/plain": [
       "np.float64(488.66807539567304)"
      ]
     },
     "execution_count": 9,
     "metadata": {},
     "output_type": "execute_result"
    }
   ],
   "source": [
    "# Buat array x dari DataFrame\n",
    "x = df1['x'] \n",
    "df1['prediksi-taksiran'] = y = beta_0 + beta_1 * x\n",
    "df1['eror'] = (df1['prediksi-taksiran'] - df1['y'])**2\n",
    "df1['sse']  = (df1['y'] - df1['prediksi-taksiran'])**2\n",
    "sse = df1['sse'].sum()\n",
    "sse"
   ]
  },
  {
   "cell_type": "code",
   "execution_count": 10,
   "metadata": {},
   "outputs": [
    {
     "data": {
      "text/plain": [
       "np.float64(14.372590452813913)"
      ]
     },
     "execution_count": 10,
     "metadata": {},
     "output_type": "execute_result"
    }
   ],
   "source": [
    "variansi_residual = df1['eror'].sum()/(df1.shape[0]-2)\n",
    "variansi_residual"
   ]
  },
  {
   "cell_type": "markdown",
   "metadata": {},
   "source": []
  },
  {
   "cell_type": "code",
   "execution_count": 11,
   "metadata": {},
   "outputs": [
    {
     "data": {
      "image/png": "[encoded data removed]",
      "text/plain": [
       "<Figure size 640x480 with 2 Axes>"
      ]
     },
     "metadata": {},
     "output_type": "display_data"
    }
   ],
   "source": [
    "import numpy as np\n",
    "import pandas as pd\n",
    "import matplotlib.pyplot as plt\n",
    "import scipy.stats as stats\n",
    "plt.subplot(1, 2, 1)\n",
    "plt.hist(df1['eror'], bins=10, color='blue', alpha=0.7)\n",
    "plt.title('Histogram Residual')\n",
    "plt.xlabel('Residual (ϵ)')\n",
    "plt.ylabel('Frekuensi')\n",
    "plt.grid()\n",
    "\n",
    "# Plot Q-Q Plot\n",
    "plt.subplot(1, 2, 2)\n",
    "stats.probplot(df1['eror'], dist=\"norm\", plot=plt)\n",
    "plt.title('Q-Q Plot Residual')\n",
    "\n",
    "plt.tight_layout()\n",
    "plt.show()"
   ]
  },
  {
   "cell_type": "code",
   "execution_count": 12,
   "metadata": {},
   "outputs": [
    {
     "data": {
      "image/png": "[encoded data removed]",
      "text/plain": [
       "<Figure size 1200x600 with 1 Axes>"
      ]
     },
     "metadata": {},
     "output_type": "display_data"
    }
   ],
   "source": [
    "import numpy as np\n",
    "import matplotlib.pyplot as plt\n",
    "import pandas as pd  # Pastikan Anda mengimpor pandas jika menggunakan DataFrame\n",
    "\n",
    "# Misalkan df1, beta_0, dan beta_1 sudah didefinisikan\n",
    "# df1 = pd.read_csv('data.csv')  # Contoh cara membaca data\n",
    "# beta_0 = 1000  # Contoh nilai beta_0\n",
    "# beta_1 = 3000  # Contoh nilai beta_1\n",
    "\n",
    "# Buat array x dari DataFrame\n",
    "x = df1['x'] \n",
    "\n",
    "# Hitung nilai y untuk x dari DataFrame\n",
    "y = beta_0 + beta_1 * x\n",
    "\n",
    "# Buat array x baru\n",
    "x1 = np.array([120, 125, 130])  # hitung nilai prediksinya bagaimana\n",
    "# Hitung nilai y untuk x1\n",
    "y1 = beta_0 + beta_1 * x1\n",
    "\n",
    "# Plot\n",
    "plt.figure(figsize=(12, 6))\n",
    "\n",
    "# Plot garis regresi dari DataFrame\n",
    "plt.plot(x, y, label=f'y = {beta_0} + {beta_1} * x', color='blue')\n",
    "\n",
    "# Plot garis untuk x1\n",
    "plt.scatter(x1, y1, label=f'y = {beta_0} + {beta_1} * x1', color='red')\n",
    "# Plot data dari CSV\n",
    "plt.scatter(df1['x'], df1['y'], color='green', label='Data CSV')  # Ubah warna agar tidak sama dengan garis\n",
    "plt.title('Plot dari y = beta_0 + beta_1 * x')\n",
    "plt.xlabel('x')\n",
    "plt.ylabel('y')\n",
    "\n",
    "# Menetapkan limit sumbu\n",
    "plt.xlim(100, 150)  # Sesuaikan sesuai kebutuhan; menambah sedikit lebih banyak untuk x1\n",
    "plt.ylim(min(y), max(y) + 10)  # Mengatur rentang y dengan sedikit padding\n",
    "\n",
    "# Garis horizontal dan vertikal di sumbu\n",
    "plt.axhline(0, color='black', lw=0.5, ls='--')\n",
    "plt.axvline(0, color='black', lw=0.5, ls='--')\n",
    "\n",
    "# Mengatur ticks\n",
    "plt.xticks(np.arange(100, 150, 10)) \n",
    "plt.yticks(np.arange(100,  150, 5)) \n",
    "\n",
    "\n",
    "plt.grid()\n",
    "plt.legend()\n",
    "plt.show()\n"
   ]
  },
  {
   "cell_type": "code",
   "execution_count": 13,
   "metadata": {},
   "outputs": [
    {
     "data": {
      "text/plain": [
       "array([120.72054696, 125.75128879, 130.78203062])"
      ]
     },
     "execution_count": 13,
     "metadata": {},
     "output_type": "execute_result"
    }
   ],
   "source": [
    "#nilai prediksinya \n",
    "y1 = beta_0 + beta_1 * x1\n",
    "y1"
   ]
  },
  {
   "cell_type": "code",
   "execution_count": 14,
   "metadata": {},
   "outputs": [
    {
     "data": {
      "text/plain": [
       "0     104.954202\n",
       "1     105.245985\n",
       "2     105.346600\n",
       "3     105.427092\n",
       "4     105.497522\n",
       "5     105.688690\n",
       "6     105.578014\n",
       "7     105.527707\n",
       "8     105.477399\n",
       "9     105.547830\n",
       "10    105.839613\n",
       "11    106.312502\n",
       "12    109.844083\n",
       "13    109.421501\n",
       "14    110.628879\n",
       "15    112.007302\n",
       "16    113.023512\n",
       "17    114.643411\n",
       "18    115.850789\n",
       "19    114.180583\n",
       "Name: x, dtype: float64"
      ]
     },
     "execution_count": 14,
     "metadata": {},
     "output_type": "execute_result"
    }
   ],
   "source": [
    "y.head(20)"
   ]
  },
  {
   "cell_type": "code",
   "execution_count": 15,
   "metadata": {},
   "outputs": [
    {
     "data": {
      "text/plain": [
       "26    115.800481\n",
       "27    116.112387\n",
       "28    116.283433\n",
       "29    116.424293\n",
       "30    116.776445\n",
       "31    116.384048\n",
       "32    116.786507\n",
       "33    116.836814\n",
       "34    117.782594\n",
       "35    118.144807\n",
       "Name: x, dtype: float64"
      ]
     },
     "execution_count": 15,
     "metadata": {},
     "output_type": "execute_result"
    }
   ],
   "source": [
    "y.tail(10)"
   ]
  },
  {
   "cell_type": "code",
   "execution_count": 16,
   "metadata": {},
   "outputs": [
    {
     "name": "stdout",
     "output_type": "stream",
     "text": [
      "jumlah r kuadrat yaitu  0.6426271599293119\n",
      "nilai Jkr yaitu  828.7709054447516\n",
      "nilai JKT yaitu   1289.660563888889\n",
      "nilai JKS yaitu  460.88965844413747\n",
      "jumlah nilai RKR  1289.660563888889\n",
      "dgree of freedom pada galat  34\n",
      "print degre of freedom total  35\n",
      "jumlah nilai RKS  13.555578189533454\n",
      "F_statisiknya yaitu  95.13873520235846\n"
     ]
    }
   ],
   "source": [
    "# menghitung R kuadrat\n",
    "k =  ((y-f)**2)\n",
    "l = ((df1['y']- f)**2)\n",
    "JKR = k.sum()\n",
    "JKT = l.sum()\n",
    "RKR = JKT/1\n",
    "JKS = JKT - JKR\n",
    "dk_galat = df1.shape[0] - 2\n",
    "dk_total = df1.shape[0] - 1\n",
    "RKS = JKS/dk_galat\n",
    "f_statistik = RKR/RKS\n",
    "\n",
    "R_kuadrat = JKR/JKT\n",
    "print(\"jumlah r kuadrat yaitu \",R_kuadrat)\n",
    "print(\"nilai Jkr yaitu \",JKR)\n",
    "print(\"nilai JKT yaitu  \",JKT)\n",
    "print(\"nilai JKS yaitu \",JKS)\n",
    "print(\"jumlah nilai RKR \",RKR)\n",
    "print(\"dgree of freedom pada galat \",dk_galat)\n",
    "print(\"print degre of freedom total \",dk_total)\n",
    "print(\"jumlah nilai RKS \", RKS)\n",
    "print(\"F_statisiknya yaitu \",f_statistik)\n"
   ]
  },
  {
   "cell_type": "code",
   "execution_count": 17,
   "metadata": {},
   "outputs": [
    {
     "name": "stdout",
     "output_type": "stream",
     "text": [
      "Koefisien beta0: 1.8561124577065016\n",
      "Koefisien beta1: 0.9892865236677715\n",
      "Statistik t: 7.4681537056743545\n",
      "p-value: 1.1505980834769503e-08\n"
     ]
    }
   ],
   "source": [
    "# Menghitung p-valuenya \n",
    "from scipy import stats\n",
    "x = df1['x']\n",
    "y = df1['y']\n",
    "n = len(x)\n",
    "\n",
    "# Langkah 1: Hitung rata-rata x dan y\n",
    "x_mean = np.mean(x)\n",
    "y_mean = np.mean(y)\n",
    "\n",
    "# Langkah 2: Hitung koefisien beta1\n",
    "beta1_numerator = n * np.sum(x * y) - np.sum(x) * np.sum(y)\n",
    "beta1_denominator = n * np.sum(x**2) - (np.sum(x))**2\n",
    "beta1 = beta1_numerator / beta1_denominator\n",
    "\n",
    "# Langkah 3: Hitung koefisien beta0\n",
    "beta0 = y_mean - beta1 * x_mean\n",
    "\n",
    "# Langkah 4: Hitung nilai prediksi (y_hat) dan residual\n",
    "y_hat = beta0 + beta1 * x\n",
    "residuals = y - y_hat\n",
    "\n",
    "# Langkah 5: Hitung varians dari residual (s^2)\n",
    "s_squared = np.sum(residuals**2) / (n - 2)\n",
    "\n",
    "# Langkah 6: Hitung standard error dari beta1\n",
    "se_beta1 = np.sqrt(s_squared / np.sum((x - x_mean)**2))\n",
    "\n",
    "# Langkah 7: Hitung statistik t\n",
    "t_statistic = beta1 / se_beta1\n",
    "\n",
    "# Langkah 8: Hitung p-value\n",
    "df = n - 2  # Derajat kebebasan\n",
    "p_value = 2 * (1 - stats.t.cdf(np.abs(t_statistic), df))\n",
    "\n",
    "# Menampilkan hasil\n",
    "print(f\"Koefisien beta0: {beta0}\")\n",
    "print(f\"Koefisien beta1: {beta1}\")\n",
    "print(f\"Statistik t: {t_statistic}\")\n",
    "print(f\"p-value: {p_value}\")"
   ]
  },
  {
   "cell_type": "markdown",
   "metadata": {},
   "source": []
  },
  {
   "cell_type": "code",
   "execution_count": 18,
   "metadata": {},
   "outputs": [
    {
     "name": "stdout",
     "output_type": "stream",
     "text": [
      "Nilai p: 1.8181993688415332e-09\n"
     ]
    }
   ],
   "source": [
    "#mneghitung f statistiknya \n",
    "import scipy.stats as stats\n",
    "\n",
    "F_statistic = 65.90276614021366\n",
    "df_model = 1\n",
    "df_error = 34\n",
    "\n",
    "# Menghitung nilai p\n",
    "p_value = 1 - stats.f.cdf(F_statistic, df_model, df_error)\n",
    "print(f\"Nilai p: {p_value}\")\n"
   ]
  }
 ],
 "metadata": {
  "kernelspec": {
   "display_name": "Python 3",
   "language": "python",
   "name": "python3"
  },
  "language_info": {
   "codemirror_mode": {
    "name": "ipython",
    "version": 3
   },
   "file_extension": ".py",
   "mimetype": "text/x-python",
   "name": "python",
   "nbconvert_exporter": "python",
   "pygments_lexer": "ipython3",
   "version": "3.12.7"
  }
 },
 "nbformat": 4,
 "nbformat_minor": 2
}
