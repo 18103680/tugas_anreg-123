{
 "cells": [
  {
   "cell_type": "code",
   "execution_count": 19,
   "metadata": {},
   "outputs": [],
   "source": [
    "import numpy as np\n",
    "import matplotlib.pyplot as plt\n",
    "import pandas as pd"
   ]
  },
  {
   "cell_type": "code",
   "execution_count": 20,
   "metadata": {},
   "outputs": [
    {
     "data": {
      "text/html": [
       "<div>\n",
       "<style scoped>\n",
       "    .dataframe tbody tr th:only-of-type {\n",
       "        vertical-align: middle;\n",
       "    }\n",
       "\n",
       "    .dataframe tbody tr th {\n",
       "        vertical-align: top;\n",
       "    }\n",
       "\n",
       "    .dataframe thead th {\n",
       "        text-align: right;\n",
       "    }\n",
       "</style>\n",
       "<table border=\"1\" class=\"dataframe\">\n",
       "  <thead>\n",
       "    <tr style=\"text-align: right;\">\n",
       "      <th></th>\n",
       "      <th>x</th>\n",
       "      <th>y</th>\n",
       "    </tr>\n",
       "  </thead>\n",
       "  <tbody>\n",
       "    <tr>\n",
       "      <th>0</th>\n",
       "      <td>104.33</td>\n",
       "      <td>102.08</td>\n",
       "    </tr>\n",
       "    <tr>\n",
       "      <th>1</th>\n",
       "      <td>104.62</td>\n",
       "      <td>101.24</td>\n",
       "    </tr>\n",
       "    <tr>\n",
       "      <th>2</th>\n",
       "      <td>104.72</td>\n",
       "      <td>102.17</td>\n",
       "    </tr>\n",
       "    <tr>\n",
       "      <th>3</th>\n",
       "      <td>104.80</td>\n",
       "      <td>102.20</td>\n",
       "    </tr>\n",
       "    <tr>\n",
       "      <th>4</th>\n",
       "      <td>104.87</td>\n",
       "      <td>111.91</td>\n",
       "    </tr>\n",
       "    <tr>\n",
       "      <th>5</th>\n",
       "      <td>105.06</td>\n",
       "      <td>101.27</td>\n",
       "    </tr>\n",
       "    <tr>\n",
       "      <th>6</th>\n",
       "      <td>104.95</td>\n",
       "      <td>121.82</td>\n",
       "    </tr>\n",
       "    <tr>\n",
       "      <th>7</th>\n",
       "      <td>104.90</td>\n",
       "      <td>111.56</td>\n",
       "    </tr>\n",
       "    <tr>\n",
       "      <th>8</th>\n",
       "      <td>104.85</td>\n",
       "      <td>101.42</td>\n",
       "    </tr>\n",
       "    <tr>\n",
       "      <th>9</th>\n",
       "      <td>104.92</td>\n",
       "      <td>101.60</td>\n",
       "    </tr>\n",
       "    <tr>\n",
       "      <th>10</th>\n",
       "      <td>105.21</td>\n",
       "      <td>101.77</td>\n",
       "    </tr>\n",
       "    <tr>\n",
       "      <th>11</th>\n",
       "      <td>105.68</td>\n",
       "      <td>111.65</td>\n",
       "    </tr>\n",
       "    <tr>\n",
       "      <th>12</th>\n",
       "      <td>109.19</td>\n",
       "      <td>109.22</td>\n",
       "    </tr>\n",
       "    <tr>\n",
       "      <th>13</th>\n",
       "      <td>108.77</td>\n",
       "      <td>108.29</td>\n",
       "    </tr>\n",
       "    <tr>\n",
       "      <th>14</th>\n",
       "      <td>109.97</td>\n",
       "      <td>109.75</td>\n",
       "    </tr>\n",
       "    <tr>\n",
       "      <th>15</th>\n",
       "      <td>111.34</td>\n",
       "      <td>111.34</td>\n",
       "    </tr>\n",
       "    <tr>\n",
       "      <th>16</th>\n",
       "      <td>112.35</td>\n",
       "      <td>112.30</td>\n",
       "    </tr>\n",
       "    <tr>\n",
       "      <th>17</th>\n",
       "      <td>113.96</td>\n",
       "      <td>114.04</td>\n",
       "    </tr>\n",
       "    <tr>\n",
       "      <th>18</th>\n",
       "      <td>115.16</td>\n",
       "      <td>115.52</td>\n",
       "    </tr>\n",
       "    <tr>\n",
       "      <th>19</th>\n",
       "      <td>113.50</td>\n",
       "      <td>114.18</td>\n",
       "    </tr>\n",
       "    <tr>\n",
       "      <th>20</th>\n",
       "      <td>114.75</td>\n",
       "      <td>114.81</td>\n",
       "    </tr>\n",
       "    <tr>\n",
       "      <th>21</th>\n",
       "      <td>113.44</td>\n",
       "      <td>114.63</td>\n",
       "    </tr>\n",
       "    <tr>\n",
       "      <th>22</th>\n",
       "      <td>113.42</td>\n",
       "      <td>114.00</td>\n",
       "    </tr>\n",
       "    <tr>\n",
       "      <th>23</th>\n",
       "      <td>114.19</td>\n",
       "      <td>114.90</td>\n",
       "    </tr>\n",
       "    <tr>\n",
       "      <th>24</th>\n",
       "      <td>115.07</td>\n",
       "      <td>115.94</td>\n",
       "    </tr>\n",
       "    <tr>\n",
       "      <th>25</th>\n",
       "      <td>115.25</td>\n",
       "      <td>115.69</td>\n",
       "    </tr>\n",
       "    <tr>\n",
       "      <th>26</th>\n",
       "      <td>115.11</td>\n",
       "      <td>115.50</td>\n",
       "    </tr>\n",
       "    <tr>\n",
       "      <th>27</th>\n",
       "      <td>115.42</td>\n",
       "      <td>115.66</td>\n",
       "    </tr>\n",
       "    <tr>\n",
       "      <th>28</th>\n",
       "      <td>115.59</td>\n",
       "      <td>116.25</td>\n",
       "    </tr>\n",
       "    <tr>\n",
       "      <th>29</th>\n",
       "      <td>115.73</td>\n",
       "      <td>116.33</td>\n",
       "    </tr>\n",
       "    <tr>\n",
       "      <th>30</th>\n",
       "      <td>116.08</td>\n",
       "      <td>116.90</td>\n",
       "    </tr>\n",
       "    <tr>\n",
       "      <th>31</th>\n",
       "      <td>115.69</td>\n",
       "      <td>116.37</td>\n",
       "    </tr>\n",
       "    <tr>\n",
       "      <th>32</th>\n",
       "      <td>116.09</td>\n",
       "      <td>116.85</td>\n",
       "    </tr>\n",
       "    <tr>\n",
       "      <th>33</th>\n",
       "      <td>116.14</td>\n",
       "      <td>117.43</td>\n",
       "    </tr>\n",
       "    <tr>\n",
       "      <th>34</th>\n",
       "      <td>117.08</td>\n",
       "      <td>118.36</td>\n",
       "    </tr>\n",
       "    <tr>\n",
       "      <th>35</th>\n",
       "      <td>117.44</td>\n",
       "      <td>118.66</td>\n",
       "    </tr>\n",
       "  </tbody>\n",
       "</table>\n",
       "</div>"
      ],
      "text/plain": [
       "         x       y\n",
       "0   104.33  102.08\n",
       "1   104.62  101.24\n",
       "2   104.72  102.17\n",
       "3   104.80  102.20\n",
       "4   104.87  111.91\n",
       "5   105.06  101.27\n",
       "6   104.95  121.82\n",
       "7   104.90  111.56\n",
       "8   104.85  101.42\n",
       "9   104.92  101.60\n",
       "10  105.21  101.77\n",
       "11  105.68  111.65\n",
       "12  109.19  109.22\n",
       "13  108.77  108.29\n",
       "14  109.97  109.75\n",
       "15  111.34  111.34\n",
       "16  112.35  112.30\n",
       "17  113.96  114.04\n",
       "18  115.16  115.52\n",
       "19  113.50  114.18\n",
       "20  114.75  114.81\n",
       "21  113.44  114.63\n",
       "22  113.42  114.00\n",
       "23  114.19  114.90\n",
       "24  115.07  115.94\n",
       "25  115.25  115.69\n",
       "26  115.11  115.50\n",
       "27  115.42  115.66\n",
       "28  115.59  116.25\n",
       "29  115.73  116.33\n",
       "30  116.08  116.90\n",
       "31  115.69  116.37\n",
       "32  116.09  116.85\n",
       "33  116.14  117.43\n",
       "34  117.08  118.36\n",
       "35  117.44  118.66"
      ]
     },
     "execution_count": 20,
     "metadata": {},
     "output_type": "execute_result"
    }
   ],
   "source": [
    "df1 = pd.read_csv('multi.csv')\n",
    "df1"
   ]
  },
  {
   "cell_type": "markdown",
   "metadata": {},
   "source": [
    "### disini saya mengestimasi betanya dengan cara metode regresi sederhana dimana formulanya yaitu dengan matriks \n",
    "\n",
    "#### dengan formula  $$\n",
    "$$\n",
    "\\mathbf{A} = (\\mathbf{X}^T \\mathbf{X})^{-1} \\mathbf{X}^T \\mathbf{Y}\n",
    "$$\n",
    "\n"
   ]
  },
  {
   "cell_type": "code",
   "execution_count": 21,
   "metadata": {},
   "outputs": [
    {
     "name": "stdout",
     "output_type": "stream",
     "text": [
      "Hasil:\n",
      "[[1.85611246]\n",
      " [0.98928652]]\n"
     ]
    }
   ],
   "source": [
    "# Misalkan df adalah DataFrame yang sudah didefinisikan sebelumnya\n",
    "# Misalkan 'x1' dan 'x2' adalah nama kolom di DataFrame df\n",
    "# X = np.array(df[['x1', 'x2']])  # Ambil kolom 'x1' dan 'x2' dari DataFrame\n",
    "X = np.column_stack((np.ones(df1.shape[0]), df1[['x']]))\n",
    "Y = np.array(df1[['y']])  # Nilai-nilai untuk Y\n",
    "# Menghitung (X^T * X)\n",
    "X_transpose = X.T\n",
    "XTX = X_transpose @ X\n",
    "\n",
    "# Menghitung invers dari (X^T * X)\n",
    "XTX_inv = np.linalg.inv(XTX)\n",
    "\n",
    "# Menghitung (X^T * Y)\n",
    "XTY = X_transpose @ Y\n",
    "\n",
    "# Menghitung hasil akhir\n",
    "result = XTX_inv @ XTY\n",
    "\n",
    "# Menampilkan hasil\n",
    "print(\"Hasil:\")\n",
    "print(result)"
   ]
  },
  {
   "cell_type": "markdown",
   "metadata": {},
   "source": [
    "## kita buat plot dengan beta_0 dan beta_1 dengan cara matriks\n"
   ]
  },
  {
   "cell_type": "code",
   "execution_count": 22,
   "metadata": {},
   "outputs": [
    {
     "data": {
      "image/png": "[encoded data removed]",
      "text/plain": [
       "<Figure size 600x600 with 1 Axes>"
      ]
     },
     "metadata": {},
     "output_type": "display_data"
    }
   ],
   "source": [
    "# Misalkan df1, beta_0, dan beta_1 sudah didefinisikan\n",
    "# df1 = pd.read_csv('data.csv')  # Contoh cara membaca data\n",
    "# beta_0 = 1000  # Contoh nilai beta_0\n",
    "# beta_1 = 3000  # Contoh nilai beta_1\n",
    "\n",
    "# Buat array x dari DataFrame\n",
    "x1 = df1['x'] \n",
    "\n",
    "# Hitung nilai y\n",
    "y = 1.85611246+  0.98928652* x1\n",
    "\n",
    "\n",
    "# Plot\n",
    "plt.figure(figsize=(6, 6))\n",
    "plt.plot(x1, y1, label=f'y = {1.85611246} + {0.98928652} * x', color='blue')\n",
    "plt.scatter(df1['x'], df1['y'], color='red', label='Data CSV')\n",
    "plt.title('Plot dari y dengan cara matriks ')\n",
    "plt.xlabel('x')\n",
    "plt.ylabel('y')\n",
    "\n",
    "# Menetapkan limit sumbu\n",
    "plt.xlim(100, 130)  # Sesuaikan sesuai kebutuhan\n",
    "plt.ylim(min(y), max(y))  # Sesuaikan dengan rentang nilai y yang dihitung\n",
    "\n",
    "# # Garis horizontal dan vertikal di sumbu\n",
    "# plt.axhline(0, color='black', lw=0.5, ls='--')\n",
    "# plt.axvline(0, color='black', lw=0.5, ls='--')\n",
    "\n",
    "# Mengatur ticks\n",
    "plt.xticks(np.arange(100, 150, 10)) \n",
    "plt.yticks(np.arange(100, max(y) + 10, 5))  # Menyesuaikan rentang y\n",
    "\n",
    "plt.grid()\n",
    "plt.legend()\n",
    "plt.show()"
   ]
  },
  {
   "cell_type": "markdown",
   "metadata": {},
   "source": [
    "#### setelah itu saya akan mencari nilai R-kuadrat dari matriks tersebut"
   ]
  },
  {
   "cell_type": "code",
   "execution_count": 23,
   "metadata": {},
   "outputs": [
    {
     "name": "stdout",
     "output_type": "stream",
     "text": [
      "Jumlah kolom 'x': 3999.6400000000003\n",
      "Jumlah kolom 'y': 4023.61\n",
      "Jumlah kolom 'xy': 447837.4438\n",
      "Jumlah kolom 'x^2': 445183.1209999999\n",
      "Jumlah kolom 'y^2': 450996.25589999993\n",
      "rata-rata y  111.76694444444445\n",
      "rata-rata x  111.10111111111112\n"
     ]
    }
   ],
   "source": [
    "df1['xy'] = df1['x'] * df1['y']\n",
    "df1['x^2'] = df1['x'] * df1['x']\n",
    "df1['y^2'] = df1['y'] * df1['y']\n",
    "# menegtahui jumlah nya \n",
    "a= df1['x'].sum()\n",
    "b= df1['y'].sum()\n",
    "c =df1['xy'].sum()\n",
    "d = df1['x^2'].sum()\n",
    "e = df1['y^2'].sum()\n",
    "f = df1['y'].mean()\n",
    "g = df1['x'].mean()\n",
    "\n",
    "\n",
    "print(\"Jumlah kolom 'x':\", a)\n",
    "print(\"Jumlah kolom 'y':\", b)\n",
    "print(\"Jumlah kolom 'xy':\", c)\n",
    "print(\"Jumlah kolom 'x^2':\", d)\n",
    "print(\"Jumlah kolom 'y^2':\", e)\n",
    "print('rata-rata y ', f)\n",
    "print('rata-rata x ', g)"
   ]
  },
  {
   "cell_type": "code",
   "execution_count": 24,
   "metadata": {},
   "outputs": [
    {
     "name": "stdout",
     "output_type": "stream",
     "text": [
      "jumlah r kuadrat yaitu  0.621268317802488\n",
      "nilai Jkr yaitu  801.2252490634583\n",
      "nilai JKT yaitu   1289.660563888889\n",
      "nilai JKS yaitu  488.43531482543085\n",
      "jumlah nilai RKR  1289.660563888889\n",
      "dgree of freedom pada galat  34\n",
      "print degre of freedom total  35\n",
      "jumlah nilai RKS  14.365744553689142\n",
      "F_statisiknya yaitu  89.77331867965748\n"
     ]
    }
   ],
   "source": [
    "# menghitung R kuadrat\n",
    "k =  ((y-f)**2)\n",
    "l = ((df1['y']- f)**2)\n",
    "JKR = k.sum()\n",
    "JKT = l.sum()\n",
    "RKR = JKT/1\n",
    "JKS = JKT - JKR\n",
    "dk_galat = df1.shape[0] - 2\n",
    "dk_total = df1.shape[0] - 1\n",
    "RKS = JKS/dk_galat\n",
    "f_statistik = RKR/RKS\n",
    "\n",
    "R_kuadrat = JKR/JKT\n",
    "print(\"jumlah r kuadrat yaitu \",R_kuadrat)\n",
    "print(\"nilai Jkr yaitu \",JKR)\n",
    "print(\"nilai JKT yaitu  \",JKT)\n",
    "print(\"nilai JKS yaitu \",JKS)\n",
    "print(\"jumlah nilai RKR \",RKR)\n",
    "print(\"dgree of freedom pada galat \",dk_galat)\n",
    "print(\"print degre of freedom total \",dk_total)\n",
    "print(\"jumlah nilai RKS \", RKS)\n",
    "print(\"F_statisiknya yaitu \",f_statistik)\n"
   ]
  },
  {
   "cell_type": "markdown",
   "metadata": {},
   "source": [
    "## dan saya lanjutkan dengan cara estimasi biasa dengan formula \n",
    "\n",
    "# Rumus Kemiringan (Slope) Regresi Linier\n",
    "\n",
    "$$\n",
    "b_1 = \\frac{\\sum (X_i Y_i) - \\frac{(\\sum X_i)(\\sum Y_i)}{n}}{\\sum X_i^2 - \\frac{(\\sum X_i)^2}{n}}\n",
    "$$\n",
    "\n",
    "#### dan b0 di dapatkan \n",
    "\n",
    "\n",
    "$$\n",
    "b_0 = \\bar{Y} - b_1 \\bar{X}\n",
    "$$\n"
   ]
  },
  {
   "cell_type": "code",
   "execution_count": 25,
   "metadata": {},
   "outputs": [
    {
     "data": {
      "text/plain": [
       "np.float64(1.0061483660928043)"
      ]
     },
     "execution_count": 25,
     "metadata": {},
     "output_type": "execute_result"
    }
   ],
   "source": [
    "beta_1 = (c -((a*b)/30))/(d - (a**2/30))\n",
    "beta_1"
   ]
  },
  {
   "cell_type": "code",
   "execution_count": 26,
   "metadata": {},
   "outputs": [
    {
     "data": {
      "text/plain": [
       "np.float64(-0.017256971095122253)"
      ]
     },
     "execution_count": 26,
     "metadata": {},
     "output_type": "execute_result"
    }
   ],
   "source": [
    "beta_0 = f - beta_1*g\n",
    "beta_0"
   ]
  },
  {
   "cell_type": "markdown",
   "metadata": {},
   "source": [
    "## maka saya akan bentuk plot nya yaitu \n"
   ]
  },
  {
   "cell_type": "code",
   "execution_count": 27,
   "metadata": {},
   "outputs": [
    {
     "data": {
      "image/png": "[encoded data removed]",
      "text/plain": [
       "<Figure size 600x600 with 1 Axes>"
      ]
     },
     "metadata": {},
     "output_type": "display_data"
    }
   ],
   "source": [
    "import numpy as np\n",
    "import matplotlib.pyplot as plt\n",
    "import pandas as pd  # Pastikan Anda mengimpor pandas jika menggunakan DataFrame\n",
    "\n",
    "# Misalkan df1, beta_0, dan beta_1 sudah didefinisikan\n",
    "# df1 = pd.read_csv('data.csv')  # Contoh cara membaca data\n",
    "# beta_0 = 1000  # Contoh nilai beta_0\n",
    "# beta_1 = 3000  # Contoh nilai beta_1\n",
    "\n",
    "# Buat array x dari DataFrame\n",
    "x1 = df1['x'] \n",
    "\n",
    "# Hitung nilai y\n",
    "y1 = beta_0 +  beta_1* x1\n",
    "\n",
    "\n",
    "# Plot\n",
    "plt.figure(figsize=(6, 6))\n",
    "plt.plot(x1, y1, label=f'y = {beta_0} + {beta_1} * x', color='blue')\n",
    "plt.scatter(df1['x'], df1['y'], color='red', label='Data CSV')\n",
    "plt.title('Plot dari y = beta_02 + beta_12 * x')\n",
    "plt.xlabel('x')\n",
    "plt.ylabel('y')\n",
    "\n",
    "# Menetapkan limit sumbu\n",
    "plt.xlim(100, 130)  # Sesuaikan sesuai kebutuhan\n",
    "plt.ylim(min(y), max(y))  # Sesuaikan dengan rentang nilai y yang dihitung\n",
    "\n",
    "# # Garis horizontal dan vertikal di sumbu\n",
    "# plt.axhline(0, color='black', lw=0.5, ls='--')\n",
    "# plt.axvline(0, color='black', lw=0.5, ls='--')\n",
    "\n",
    "# Mengatur ticks\n",
    "plt.xticks(np.arange(100, 150, 10)) \n",
    "plt.yticks(np.arange(100, max(y) + 10, 5))  # Menyesuaikan rentang y\n",
    "\n",
    "plt.grid()\n",
    "plt.legend()\n",
    "plt.show()\n"
   ]
  },
  {
   "cell_type": "code",
   "execution_count": 28,
   "metadata": {},
   "outputs": [
    {
     "name": "stdout",
     "output_type": "stream",
     "text": [
      "jumlah r kuadrat yaitu  0.6426271599293119\n",
      "nilai Jkr yaitu  828.7709054447516\n",
      "nilai JKT yaitu   1289.660563888889\n",
      "nilai JKS yaitu  460.88965844413747\n",
      "jumlah nilai RKR  1289.660563888889\n",
      "dgree of freedom pada galat  34\n",
      "print degre of freedom total  35\n",
      "jumlah nilai RKS  13.555578189533454\n",
      "F_statisiknya yaitu  95.13873520235846\n"
     ]
    }
   ],
   "source": [
    "# menghitung R kuadrat\n",
    "k =  ((y1-f)**2)\n",
    "l = ((df1['y']- f)**2)\n",
    "JKR = k.sum()\n",
    "JKT = l.sum()\n",
    "RKR = JKT/1\n",
    "JKS = JKT - JKR\n",
    "dk_galat = df1.shape[0] - 2\n",
    "dk_total = df1.shape[0] - 1\n",
    "RKS = JKS/dk_galat\n",
    "f_statistik = RKR/RKS\n",
    "\n",
    "R_kuadrat = JKR/JKT\n",
    "print(\"jumlah r kuadrat yaitu \",R_kuadrat)\n",
    "print(\"nilai Jkr yaitu \",JKR)\n",
    "print(\"nilai JKT yaitu  \",JKT)\n",
    "print(\"nilai JKS yaitu \",JKS)\n",
    "print(\"jumlah nilai RKR \",RKR)\n",
    "print(\"dgree of freedom pada galat \",dk_galat)\n",
    "print(\"print degre of freedom total \",dk_total)\n",
    "print(\"jumlah nilai RKS \", RKS)\n",
    "print(\"F_statisiknya yaitu \",f_statistik)\n"
   ]
  },
  {
   "cell_type": "code",
   "execution_count": 37,
   "metadata": {},
   "outputs": [
    {
     "data": {
      "text/plain": [
       "0.021358842126823818"
      ]
     },
     "execution_count": 37,
     "metadata": {},
     "output_type": "execute_result"
    }
   ],
   "source": [
    "selisih_r_kuadrat = 0.6426271599293119 -  0.621268317802488\n",
    "selisih_r_kuadrat"
   ]
  },
  {
   "cell_type": "markdown",
   "metadata": {},
   "source": [
    "### Kesimpulannya tidak ada perbedaan jauh antara metode matriks dan metode estimasi biasa pada anlisis sederhana ini"
   ]
  }
 ],
 "metadata": {
  "kernelspec": {
   "display_name": "Python 3",
   "language": "python",
   "name": "python3"
  },
  "language_info": {
   "codemirror_mode": {
    "name": "ipython",
    "version": 3
   },
   "file_extension": ".py",
   "mimetype": "text/x-python",
   "name": "python",
   "nbconvert_exporter": "python",
   "pygments_lexer": "ipython3",
   "version": "3.12.7"
  }
 },
 "nbformat": 4,
 "nbformat_minor": 2
}
