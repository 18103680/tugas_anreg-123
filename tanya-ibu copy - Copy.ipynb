{
 "cells": [
  {
   "cell_type": "code",
   "execution_count": 126,
   "metadata": {},
   "outputs": [],
   "source": [
    "import numpy as np\n",
    "import matplotlib.pyplot as plt\n",
    "import pandas as pd"
   ]
  },
  {
   "cell_type": "code",
   "execution_count": 127,
   "metadata": {},
   "outputs": [
    {
     "data": {
      "text/html": [
       "<div>\n",
       "<style scoped>\n",
       "    .dataframe tbody tr th:only-of-type {\n",
       "        vertical-align: middle;\n",
       "    }\n",
       "\n",
       "    .dataframe tbody tr th {\n",
       "        vertical-align: top;\n",
       "    }\n",
       "\n",
       "    .dataframe thead th {\n",
       "        text-align: right;\n",
       "    }\n",
       "</style>\n",
       "<table border=\"1\" class=\"dataframe\">\n",
       "  <thead>\n",
       "    <tr style=\"text-align: right;\">\n",
       "      <th></th>\n",
       "      <th>x</th>\n",
       "      <th>y</th>\n",
       "    </tr>\n",
       "  </thead>\n",
       "  <tbody>\n",
       "    <tr>\n",
       "      <th>0</th>\n",
       "      <td>108</td>\n",
       "      <td>116</td>\n",
       "    </tr>\n",
       "    <tr>\n",
       "      <th>1</th>\n",
       "      <td>124</td>\n",
       "      <td>109</td>\n",
       "    </tr>\n",
       "    <tr>\n",
       "      <th>2</th>\n",
       "      <td>103</td>\n",
       "      <td>129</td>\n",
       "    </tr>\n",
       "    <tr>\n",
       "      <th>3</th>\n",
       "      <td>139</td>\n",
       "      <td>122</td>\n",
       "    </tr>\n",
       "    <tr>\n",
       "      <th>4</th>\n",
       "      <td>123</td>\n",
       "      <td>102</td>\n",
       "    </tr>\n",
       "    <tr>\n",
       "      <th>5</th>\n",
       "      <td>115</td>\n",
       "      <td>127</td>\n",
       "    </tr>\n",
       "    <tr>\n",
       "      <th>6</th>\n",
       "      <td>148</td>\n",
       "      <td>144</td>\n",
       "    </tr>\n",
       "    <tr>\n",
       "      <th>7</th>\n",
       "      <td>110</td>\n",
       "      <td>104</td>\n",
       "    </tr>\n",
       "    <tr>\n",
       "      <th>8</th>\n",
       "      <td>130</td>\n",
       "      <td>131</td>\n",
       "    </tr>\n",
       "    <tr>\n",
       "      <th>9</th>\n",
       "      <td>134</td>\n",
       "      <td>101</td>\n",
       "    </tr>\n",
       "    <tr>\n",
       "      <th>10</th>\n",
       "      <td>102</td>\n",
       "      <td>113</td>\n",
       "    </tr>\n",
       "    <tr>\n",
       "      <th>11</th>\n",
       "      <td>134</td>\n",
       "      <td>119</td>\n",
       "    </tr>\n",
       "    <tr>\n",
       "      <th>12</th>\n",
       "      <td>114</td>\n",
       "      <td>136</td>\n",
       "    </tr>\n",
       "    <tr>\n",
       "      <th>13</th>\n",
       "      <td>134</td>\n",
       "      <td>104</td>\n",
       "    </tr>\n",
       "    <tr>\n",
       "      <th>14</th>\n",
       "      <td>149</td>\n",
       "      <td>127</td>\n",
       "    </tr>\n",
       "    <tr>\n",
       "      <th>15</th>\n",
       "      <td>148</td>\n",
       "      <td>103</td>\n",
       "    </tr>\n",
       "    <tr>\n",
       "      <th>16</th>\n",
       "      <td>124</td>\n",
       "      <td>107</td>\n",
       "    </tr>\n",
       "    <tr>\n",
       "      <th>17</th>\n",
       "      <td>115</td>\n",
       "      <td>149</td>\n",
       "    </tr>\n",
       "    <tr>\n",
       "      <th>18</th>\n",
       "      <td>136</td>\n",
       "      <td>147</td>\n",
       "    </tr>\n",
       "    <tr>\n",
       "      <th>19</th>\n",
       "      <td>143</td>\n",
       "      <td>101</td>\n",
       "    </tr>\n",
       "  </tbody>\n",
       "</table>\n",
       "</div>"
      ],
      "text/plain": [
       "      x    y\n",
       "0   108  116\n",
       "1   124  109\n",
       "2   103  129\n",
       "3   139  122\n",
       "4   123  102\n",
       "5   115  127\n",
       "6   148  144\n",
       "7   110  104\n",
       "8   130  131\n",
       "9   134  101\n",
       "10  102  113\n",
       "11  134  119\n",
       "12  114  136\n",
       "13  134  104\n",
       "14  149  127\n",
       "15  148  103\n",
       "16  124  107\n",
       "17  115  149\n",
       "18  136  147\n",
       "19  143  101"
      ]
     },
     "execution_count": 127,
     "metadata": {},
     "output_type": "execute_result"
    }
   ],
   "source": [
    "import pandas as pd\n",
    "import numpy as np\n",
    "\n",
    "# Mengatur seed untuk reproducibility\n",
    "np.random.seed(100)\n",
    "\n",
    "# Menghasilkan 1 juta data acak antara 100 dan 150\n",
    "data_size = 20\n",
    "x = np.random.randint(100, 151, size=data_size)\n",
    "y = np.random.randint(100, 151, size=data_size)\n",
    "\n",
    "# Membuat DataFrame\n",
    "df1 = pd.DataFrame({'x': x, 'y': y})\n",
    "\n",
    "# Menampilkan beberapa baris dari DataFrame\n",
    "\n",
    "df1"
   ]
  },
  {
   "cell_type": "code",
   "execution_count": null,
   "metadata": {},
   "outputs": [],
   "source": []
  },
  {
   "cell_type": "markdown",
   "metadata": {},
   "source": [
    "### disini saya mengestimasi betanya dengan cara metode regresi sederhana dimana formulanya yaitu dengan matriks \n",
    "\n",
    "#### dengan formula  $$\n",
    "$$\n",
    "\\mathbf{A} = (\\mathbf{X}^T \\mathbf{X})^{-1} \\mathbf{X}^T \\mathbf{Y}\n",
    "$$\n",
    "\n"
   ]
  },
  {
   "cell_type": "code",
   "execution_count": 128,
   "metadata": {},
   "outputs": [
    {
     "name": "stdout",
     "output_type": "stream",
     "text": [
      "Hasil:\n",
      "[[ 1.23841614e+02]\n",
      " [-3.38856202e-02]]\n"
     ]
    }
   ],
   "source": [
    "# Misalkan df adalah DataFrame yang sudah didefinisikan sebelumnya\n",
    "# Misalkan 'x1' dan 'x2' adalah nama kolom di DataFrame df\n",
    "# X = np.array(df[['x1', 'x2']])  # Ambil kolom 'x1' dan 'x2' dari DataFrame\n",
    "X = np.column_stack((np.ones(df1.shape[0]), df1[['x']]))\n",
    "Y = np.array(df1[['y']])  # Nilai-nilai untuk Y\n",
    "# Menghitung (X^T * X)\n",
    "X_transpose = X.T\n",
    "XTX = X_transpose @ X\n",
    "\n",
    "# Menghitung invers dari (X^T * X)\n",
    "XTX_inv = np.linalg.inv(XTX)\n",
    "\n",
    "# Menghitung (X^T * Y)\n",
    "XTY = X_transpose @ Y\n",
    "\n",
    "# Menghitung hasil akhir\n",
    "result = XTX_inv @ XTY\n",
    "\n",
    "# Menampilkan hasil\n",
    "print(\"Hasil:\")\n",
    "print(result)"
   ]
  },
  {
   "cell_type": "code",
   "execution_count": null,
   "metadata": {},
   "outputs": [],
   "source": []
  },
  {
   "cell_type": "markdown",
   "metadata": {},
   "source": [
    "## kita buat plot dengan beta_0 dan beta_1 dengan cara matriks\n"
   ]
  },
  {
   "cell_type": "code",
   "execution_count": 137,
   "metadata": {},
   "outputs": [
    {
     "data": {
      "image/png": "[encoded data removed]",
      "text/plain": [
       "<Figure size 600x600 with 1 Axes>"
      ]
     },
     "metadata": {},
     "output_type": "display_data"
    }
   ],
   "source": [
    "# Misalkan df1, beta_0, dan beta_1 sudah didefinisikan\n",
    "# df1 = pd.read_csv('data.csv')  # Contoh cara membaca data\n",
    "# beta_0 = 1000  # Contoh nilai beta_0\n",
    "# beta_1 = 3000  # Contoh nilai beta_1\n",
    "\n",
    "# Buat array x dari DataFrame\n",
    "x1 = df1['x'] \n",
    "\n",
    "# Hitung nilai y\n",
    "y1 = 1.23841614e+02 -3.38856202e-021 * x1\n",
    "\n",
    "\n",
    "# Plot\n",
    "plt.figure(figsize=(6, 6))\n",
    "plt.plot(x1, y1)\n",
    "plt.scatter(df1['x'], df1['y'], color='red', label='Data CSV')\n",
    "plt.title('Plot dari y dengan cara matriks ')\n",
    "plt.xlabel('x')\n",
    "plt.ylabel('y')\n",
    "\n",
    "# Menetapkan limit sumbu\n",
    "plt.xlim(100, 130)  # Sesuaikan sesuai kebutuhan\n",
    "plt.ylim(min(y), max(y))  # Sesuaikan dengan rentang nilai y yang dihitung\n",
    "\n",
    "# # Garis horizontal dan vertikal di sumbu\n",
    "# plt.axhline(0, color='black', lw=0.5, ls='--')\n",
    "# plt.axvline(0, color='black', lw=0.5, ls='--')\n",
    "\n",
    "# Mengatur ticks\n",
    "plt.xticks(np.arange(100, 150, 10)) \n",
    "plt.yticks(np.arange(100, max(y) + 10, 5))  # Menyesuaikan rentang y\n",
    "\n",
    "plt.grid()\n",
    "plt.legend()\n",
    "plt.show()"
   ]
  },
  {
   "cell_type": "markdown",
   "metadata": {},
   "source": [
    "#### setelah itu saya akan mencari nilai R-kuadrat dari matriks tersebut"
   ]
  },
  {
   "cell_type": "code",
   "execution_count": 138,
   "metadata": {},
   "outputs": [
    {
     "name": "stdout",
     "output_type": "stream",
     "text": [
      "Jumlah kolom 'x': 2533\n",
      "Jumlah kolom 'y': 2391\n",
      "Jumlah kolom 'xy': 302673\n",
      "Jumlah kolom 'x^2': 325147\n",
      "Jumlah kolom 'y^2': 290749\n",
      "rata-rata y  119.55\n",
      "rata-rata x  126.65\n"
     ]
    }
   ],
   "source": [
    "df1['xy'] = df1['x'] * df1['y']\n",
    "df1['x^2'] = df1['x'] * df1['x']\n",
    "df1['y^2'] = df1['y'] * df1['y']\n",
    "# menegtahui jumlah nya \n",
    "a= df1['x'].sum()\n",
    "b= df1['y'].sum()\n",
    "c =df1['xy'].sum()\n",
    "d = df1['x^2'].sum()\n",
    "e = df1['y^2'].sum()\n",
    "f = df1['y'].mean()\n",
    "g = df1['x'].mean()\n",
    "\n",
    "\n",
    "print(\"Jumlah kolom 'x':\", a)\n",
    "print(\"Jumlah kolom 'y':\", b)\n",
    "print(\"Jumlah kolom 'xy':\", c)\n",
    "print(\"Jumlah kolom 'x^2':\", d)\n",
    "print(\"Jumlah kolom 'y^2':\", e)\n",
    "print('rata-rata y ', f)\n",
    "print('rata-rata x ', g)"
   ]
  },
  {
   "cell_type": "code",
   "execution_count": 139,
   "metadata": {},
   "outputs": [
    {
     "name": "stdout",
     "output_type": "stream",
     "text": [
      "jumlah r kuadrat yaitu  0.07509944331744905\n",
      "nilai Jkr yaitu  368.3590144999218\n",
      "nilai JKT yaitu   4904.950000000001\n",
      "nilai JKS yaitu  4536.590985500079\n",
      "jumlah nilai RKR  4904.950000000001\n",
      "dgree of freedom pada galat  18\n",
      "print degre of freedom total  19\n",
      "jumlah nilai RKS  252.03283252778218\n",
      "F_statisiknya yaitu  19.461551698663374\n"
     ]
    }
   ],
   "source": [
    "# menghitung R kuadrat\n",
    "k =  ((y1-f)**2)\n",
    "l = ((df1['y']- f)**2)\n",
    "JKR = k.sum()\n",
    "JKT = l.sum()\n",
    "RKR = JKT/1\n",
    "JKS = JKT - JKR\n",
    "dk_galat = df1.shape[0] - 2\n",
    "dk_total = df1.shape[0] - 1\n",
    "RKS = JKS/dk_galat\n",
    "f_statistik = RKR/RKS\n",
    "\n",
    "R_kuadrat = JKR/JKT\n",
    "print(\"jumlah r kuadrat yaitu \",R_kuadrat)\n",
    "print(\"nilai Jkr yaitu \",JKR)\n",
    "print(\"nilai JKT yaitu  \",JKT)\n",
    "print(\"nilai JKS yaitu \",JKS)\n",
    "print(\"jumlah nilai RKR \",RKR)\n",
    "print(\"dgree of freedom pada galat \",dk_galat)\n",
    "print(\"print degre of freedom total \",dk_total)\n",
    "print(\"jumlah nilai RKS \", RKS)\n",
    "print(\"F_statisiknya yaitu \",f_statistik)\n"
   ]
  },
  {
   "cell_type": "code",
   "execution_count": 132,
   "metadata": {},
   "outputs": [
    {
     "name": "stdout",
     "output_type": "stream",
     "text": [
      "jumlah r kuadrat yaitu  1.0\n",
      "nilai Jkr yaitu  4904.950000000001\n",
      "nilai JKT yaitu   4904.950000000001\n",
      "nilai JKS yaitu  0.0\n",
      "jumlah nilai RKR  4904.950000000001\n",
      "dgree of freedom pada galat  18\n",
      "print degre of freedom total  19\n",
      "jumlah nilai RKS  0.0\n",
      "F_statisiknya yaitu  inf\n"
     ]
    },
    {
     "name": "stderr",
     "output_type": "stream",
     "text": [
      "C:\\Users\\BPSAdmin\\AppData\\Local\\Temp\\ipykernel_14348\\4285832144.py:11: RuntimeWarning: divide by zero encountered in scalar divide\n",
      "  f_statistik = RKR/RKS\n"
     ]
    }
   ],
   "source": [
    "# menghitung R kuadrat\n",
    "k =  ((y-f)**2)\n",
    "l = ((df1['y']- f)**2)\n",
    "JKR = k.sum()\n",
    "JKT = l.sum()\n",
    "RKR = JKT/1\n",
    "JKS = JKT - JKR\n",
    "dk_galat = df1.shape[0] - 2\n",
    "dk_total = df1.shape[0] - 1\n",
    "RKS = JKS/dk_galat\n",
    "f_statistik = RKR/RKS\n",
    "\n",
    "R_kuadrat = JKR/JKT\n",
    "print(\"jumlah r kuadrat yaitu \",R_kuadrat)\n",
    "print(\"nilai Jkr yaitu \",JKR)\n",
    "print(\"nilai JKT yaitu  \",JKT)\n",
    "print(\"nilai JKS yaitu \",JKS)\n",
    "print(\"jumlah nilai RKR \",RKR)\n",
    "print(\"dgree of freedom pada galat \",dk_galat)\n",
    "print(\"print degre of freedom total \",dk_total)\n",
    "print(\"jumlah nilai RKS \", RKS)\n",
    "print(\"F_statisiknya yaitu \",f_statistik)\n"
   ]
  },
  {
   "cell_type": "markdown",
   "metadata": {},
   "source": [
    "## dan saya lanjutkan dengan cara estimasi biasa dengan formula \n",
    "\n",
    "# Rumus Kemiringan (Slope) Regresi Linier\n",
    "\n",
    "$$\n",
    "b_1 = \\frac{\\sum (X_i Y_i) - \\frac{(\\sum X_i)(\\sum Y_i)}{n}}{\\sum X_i^2 - \\frac{(\\sum X_i)^2}{n}}\n",
    "$$\n",
    "\n",
    "#### dan b0 di dapatkan \n",
    "\n",
    "\n",
    "$$\n",
    "b_0 = \\bar{Y} - b_1 \\bar{X}\n",
    "$$\n"
   ]
  },
  {
   "cell_type": "code",
   "execution_count": 133,
   "metadata": {},
   "outputs": [
    {
     "data": {
      "text/plain": [
       "np.float64(0.9057807802185589)"
      ]
     },
     "execution_count": 133,
     "metadata": {},
     "output_type": "execute_result"
    }
   ],
   "source": [
    "beta_1 = (c -((a*b)/30))/(d - (a**2/30))\n",
    "beta_1"
   ]
  },
  {
   "cell_type": "code",
   "execution_count": 134,
   "metadata": {},
   "outputs": [
    {
     "data": {
      "text/plain": [
       "np.float64(4.832864185319508)"
      ]
     },
     "execution_count": 134,
     "metadata": {},
     "output_type": "execute_result"
    }
   ],
   "source": [
    "beta_0 = f - beta_1*g\n",
    "beta_0"
   ]
  },
  {
   "cell_type": "markdown",
   "metadata": {},
   "source": [
    "## maka saya akan bentuk plot nya yaitu \n"
   ]
  },
  {
   "cell_type": "code",
   "execution_count": 135,
   "metadata": {},
   "outputs": [
    {
     "data": {
      "image/png": "[encoded data removed]",
      "text/plain": [
       "<Figure size 600x600 with 1 Axes>"
      ]
     },
     "metadata": {},
     "output_type": "display_data"
    }
   ],
   "source": [
    "import numpy as np\n",
    "import matplotlib.pyplot as plt\n",
    "import pandas as pd  # Pastikan Anda mengimpor pandas jika menggunakan DataFrame\n",
    "\n",
    "# Misalkan df1, beta_0, dan beta_1 sudah didefinisikan\n",
    "# df1 = pd.read_csv('data.csv')  # Contoh cara membaca data\n",
    "# beta_0 = 1000  # Contoh nilai beta_0\n",
    "# beta_1 = 3000  # Contoh nilai beta_1\n",
    "\n",
    "# Buat array x dari DataFrame\n",
    "x1 = df1['x'] \n",
    "\n",
    "# Hitung nilai y\n",
    "y2 = beta_0 +  beta_1* x1\n",
    "\n",
    "\n",
    "# Plot\n",
    "plt.figure(figsize=(6, 6))\n",
    "plt.plot(x1, y2, label=f'y = {beta_0} + {beta_1} * x', color='blue')\n",
    "plt.scatter(df1['x'], df1['y'], color='red', label='Data CSV')\n",
    "plt.title('Plot dari y = beta_02 + beta_12 * x')\n",
    "plt.xlabel('x')\n",
    "plt.ylabel('y')\n",
    "\n",
    "# Menetapkan limit sumbu\n",
    "plt.xlim(100, 130)  # Sesuaikan sesuai kebutuhan\n",
    "plt.ylim(min(y), max(y))  # Sesuaikan dengan rentang nilai y yang dihitung\n",
    "\n",
    "# # Garis horizontal dan vertikal di sumbu\n",
    "# plt.axhline(0, color='black', lw=0.5, ls='--')\n",
    "# plt.axvline(0, color='black', lw=0.5, ls='--')\n",
    "\n",
    "# Mengatur ticks\n",
    "plt.xticks(np.arange(100, 150, 10)) \n",
    "plt.yticks(np.arange(100, max(y) + 10, 5))  # Menyesuaikan rentang y\n",
    "\n",
    "plt.grid()\n",
    "plt.legend()\n",
    "plt.show()\n"
   ]
  },
  {
   "cell_type": "code",
   "execution_count": 136,
   "metadata": {},
   "outputs": [
    {
     "name": "stdout",
     "output_type": "stream",
     "text": [
      "jumlah r kuadrat yaitu  0.7263675686124276\n",
      "nilai Jkr yaitu  3562.7966056655273\n",
      "nilai JKT yaitu   4904.950000000001\n",
      "nilai JKS yaitu  1342.1533943344734\n",
      "jumlah nilai RKR  4904.950000000001\n",
      "dgree of freedom pada galat  18\n",
      "print degre of freedom total  19\n",
      "jumlah nilai RKS  74.56407746302631\n",
      "F_statisiknya yaitu  65.7816762023535\n"
     ]
    }
   ],
   "source": [
    "# menghitung R kuadrat\n",
    "k =  ((y2-f)**2)\n",
    "l = ((df1['y']- f)**2)\n",
    "JKR = k.sum()\n",
    "JKT = l.sum()\n",
    "RKR = JKT/1\n",
    "JKS = JKT - JKR\n",
    "dk_galat = df1.shape[0] - 2\n",
    "dk_total = df1.shape[0] - 1\n",
    "RKS = JKS/dk_galat\n",
    "f_statistik = RKR/RKS\n",
    "\n",
    "R_kuadrat = JKR/JKT\n",
    "print(\"jumlah r kuadrat yaitu \",R_kuadrat)\n",
    "print(\"nilai Jkr yaitu \",JKR)\n",
    "print(\"nilai JKT yaitu  \",JKT)\n",
    "print(\"nilai JKS yaitu \",JKS)\n",
    "print(\"jumlah nilai RKR \",RKR)\n",
    "print(\"dgree of freedom pada galat \",dk_galat)\n",
    "print(\"print degre of freedom total \",dk_total)\n",
    "print(\"jumlah nilai RKS \", RKS)\n",
    "print(\"F_statisiknya yaitu \",f_statistik)\n"
   ]
  },
  {
   "cell_type": "code",
   "execution_count": null,
   "metadata": {},
   "outputs": [],
   "source": []
  },
  {
   "cell_type": "markdown",
   "metadata": {},
   "source": [
    "### Kesimpulannya tidak ada perbedaan jauh antara metode matriks dan metode estimasi biasa pada anlisis sederhana ini"
   ]
  }
 ],
 "metadata": {
  "kernelspec": {
   "display_name": "Python 3",
   "language": "python",
   "name": "python3"
  },
  "language_info": {
   "codemirror_mode": {
    "name": "ipython",
    "version": 3
   },
   "file_extension": ".py",
   "mimetype": "text/x-python",
   "name": "python",
   "nbconvert_exporter": "python",
   "pygments_lexer": "ipython3",
   "version": "3.12.7"
  }
 },
 "nbformat": 4,
 "nbformat_minor": 2
}
